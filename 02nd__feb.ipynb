{
 "cells": [
  {
   "cell_type": "code",
   "execution_count": null,
   "id": "6a4b7d11-0d4b-4cd1-904f-2f78f3d27883",
   "metadata": {},
   "outputs": [],
   "source": [
    "Q1. Explain with an example each when to use a for loop and a while loop.\n",
    "Ans-we use for loop when we know the no. of iterations.\n",
    "For example.\n",
    "numbers = [1, 2, 3, 4, 5]\n",
    "for num in numbers:\n",
    "    print(num)\n",
    "\n",
    "    \n",
    "in this code we know the no. of iterations as we know the  no. of element in list\n",
    "################\n",
    "when we don not know the no.of itrations we use while loop\n",
    "For example.\n",
    "num = 1\n",
    "while num <= 5:\n",
    "    print(num)\n",
    "    num += 1\n",
    "in this code we can not predict  how many no. of iterayions takes place."
   ]
  },
  {
   "cell_type": "code",
   "execution_count": null,
   "id": "177dc043-82b7-4a4d-8047-c66fb4d606fb",
   "metadata": {},
   "outputs": [],
   "source": [
    "Q2. Write a python program to print the sum and product of the first 10 natural numbers using for\n",
    "and while loop.\n",
    "Ans- by using for loop\n",
    "a=range(1,11)\n",
    "sum=0\n",
    "p=1\n",
    "for i in a:\n",
    "    sum=sum+i\n",
    "    p=p*i\n",
    "print(sum)\n",
    "print(p)\n",
    "\n",
    "\n",
    "#####By using while loop\n",
    "i=1\n",
    "sum=0\n",
    "p=1\n",
    "while i<=10:\n",
    "    sum=sum+i\n",
    "    p=p*i\n",
    "    i=i+1\n",
    "print(sum)\n",
    "print(p)\n",
    "    "
   ]
  },
  {
   "cell_type": "code",
   "execution_count": null,
   "id": "5b6ac66e-f3c3-4e68-916e-695820d0b8f6",
   "metadata": {},
   "outputs": [],
   "source": [
    "Q3. Create a python program to compute the electricity bill for a household.\n",
    "   The per-unit charges in rupees are as follows: For the first 100 units, the user will be charged Rs. 4.5 per\n",
    "unit, for the next 100 units, the user will be charged Rs. 6 per unit, and for the next 100 units, the user will\n",
    "be charged Rs. 10 per unit, After 300 units and above the user will be charged Rs. 20 per unit.\n",
    "You are required to take the units of electricity consumed in a month from the user as input.\n",
    "Your program must pass this test case: when the unit of electricity consumed by the user in a month is\n",
    "310, the total electricity bill should be 2250.\n",
    "#### answer\n",
    "unit=int(input(\"enter units\"))\n",
    "if unit<=100 :\n",
    "    amount=unit*4.5\n",
    "elif unit<=200:\n",
    "    amount=100*4.5+((unit-100)*6)\n",
    "elif unit<=300:\n",
    "    amount=100*4.5+100*6+((unit-200)*10)\n",
    "else :\n",
    "      amount=100*4.5+100*6+100*10+((unit-300)*20)\n",
    "print(amount)"
   ]
  },
  {
   "cell_type": "code",
   "execution_count": null,
   "id": "6ab8fef9-6128-45a8-9711-42d386aa35de",
   "metadata": {},
   "outputs": [],
   "source": [
    "Q4. Create a list of numbers from 1 to 100. Use for loop and while loop to calculate the cube of each\n",
    "number and if the cube of that number is divisible by 4 or 5 then append that number in a list and print\n",
    "that list.\n",
    "Ans-by for loop\n",
    "\n",
    "\n",
    "a=[]\n",
    "for i in range(1,101):\n",
    "    cube = i**3\n",
    "    if cube%4==0 or cube%5==0 :\n",
    "        a.append(i)\n",
    "print(a)\n",
    "##bt while loop\n",
    "\n",
    "a = []\n",
    "i = 1\n",
    "while i <= 100:\n",
    "    cube = i ** 3\n",
    "    if cube % 4 == 0 or cube % 5 == 0:\n",
    "        a.append(i)\n",
    "    i =i+ 1\n",
    "\n",
    "print(a)"
   ]
  },
  {
   "cell_type": "code",
   "execution_count": null,
   "id": "27c9a393-a19e-473b-9943-0a23290ce81e",
   "metadata": {},
   "outputs": [],
   "source": [
    "Write a program to filter count vowels in the below-given string.\n",
    "string = \"I want to become a data scientist\"\n",
    "Ans-\n",
    "s=\"I want to become a data scientist\"\n",
    "vowel=['a','e','i','o','u']\n",
    "count=0\n",
    "for i in s:\n",
    "    if i in vowel :\n",
    "        count++\n",
    "print(count)"
   ]
  }
 ],
 "metadata": {
  "kernelspec": {
   "display_name": "Python 3 (ipykernel)",
   "language": "python",
   "name": "python3"
  },
  "language_info": {
   "codemirror_mode": {
    "name": "ipython",
    "version": 3
   },
   "file_extension": ".py",
   "mimetype": "text/x-python",
   "name": "python",
   "nbconvert_exporter": "python",
   "pygments_lexer": "ipython3",
   "version": "3.10.8"
  }
 },
 "nbformat": 4,
 "nbformat_minor": 5
}
